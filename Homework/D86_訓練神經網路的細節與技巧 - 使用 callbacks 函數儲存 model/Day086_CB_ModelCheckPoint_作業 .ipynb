{
 "cells": [
  {
   "cell_type": "markdown",
   "metadata": {},
   "source": [
    "## Work\n",
    "1. 試比較 save_best_only 與否的差異\n",
    "2. 請僅存入將 save_weights_only 設定為 True, 並嘗試 reset ipynb 並將模型與權重重新建回並預測 x_test"
   ]
  },
  {
   "cell_type": "code",
   "execution_count": 17,
   "metadata": {},
   "outputs": [],
   "source": [
    "import os\n",
    "import keras\n",
    "\n",
    "# Disable GPU\n",
    "os.environ[\"CUDA_VISIBLE_DEVICES\"] = \"\""
   ]
  },
  {
   "cell_type": "code",
   "execution_count": 18,
   "metadata": {},
   "outputs": [],
   "source": [
    "train, test = keras.datasets.cifar10.load_data()"
   ]
  },
  {
   "cell_type": "code",
   "execution_count": 19,
   "metadata": {},
   "outputs": [],
   "source": [
    "## 資料前處理\n",
    "def preproc_x(x, flatten=True):\n",
    "    x = x / 255.\n",
    "    if flatten:\n",
    "        x = x.reshape((len(x), -1))\n",
    "    return x\n",
    "\n",
    "def preproc_y(y, num_classes=10):\n",
    "    if y.shape[-1] == 1:\n",
    "        y = keras.utils.to_categorical(y, num_classes)\n",
    "    return y    "
   ]
  },
  {
   "cell_type": "code",
   "execution_count": 20,
   "metadata": {},
   "outputs": [],
   "source": [
    "x_train, y_train = train\n",
    "x_test, y_test = test\n",
    "\n",
    "# Preproc the inputs\n",
    "x_train = preproc_x(x_train)\n",
    "x_test = preproc_x(x_test)\n",
    "\n",
    "# Preprc the outputs\n",
    "y_train = preproc_y(y_train)\n",
    "y_test = preproc_y(y_test)"
   ]
  },
  {
   "cell_type": "code",
   "execution_count": 21,
   "metadata": {},
   "outputs": [],
   "source": [
    "from keras.layers import BatchNormalization\n",
    "\n",
    "def build_mlp(input_shape, output_units=10, num_neurons=[512, 256, 128]):\n",
    "    input_layer = keras.layers.Input(input_shape)\n",
    "    \n",
    "    for i, n_units in enumerate(num_neurons):\n",
    "        if i == 0:\n",
    "            x = keras.layers.Dense(units=n_units, \n",
    "                                   activation=\"relu\", \n",
    "                                   name=\"hidden_layer\"+str(i+1))(input_layer)\n",
    "            x = BatchNormalization()(x)\n",
    "        else:\n",
    "            x = keras.layers.Dense(units=n_units, \n",
    "                                   activation=\"relu\", \n",
    "                                   name=\"hidden_layer\"+str(i+1))(x)\n",
    "            x = BatchNormalization()(x)\n",
    "    \n",
    "    out = keras.layers.Dense(units=output_units, activation=\"softmax\", name=\"output\")(x)\n",
    "    \n",
    "    model = keras.models.Model(inputs=[input_layer], outputs=[out])\n",
    "    return model"
   ]
  },
  {
   "cell_type": "code",
   "execution_count": 22,
   "metadata": {},
   "outputs": [],
   "source": [
    "# 超參數設定\n",
    "LEARNING_RATE = 1e-3\n",
    "EPOCHS = 50\n",
    "BATCH_SIZE = 256\n",
    "MOMENTUM = 0.95"
   ]
  },
  {
   "cell_type": "code",
   "execution_count": 23,
   "metadata": {},
   "outputs": [
    {
     "name": "stdout",
     "output_type": "stream",
     "text": [
      "Model: \"model_1\"\n",
      "_________________________________________________________________\n",
      " Layer (type)                Output Shape              Param #   \n",
      "=================================================================\n",
      " input_2 (InputLayer)        [(None, 3072)]            0         \n",
      "                                                                 \n",
      " hidden_layer1 (Dense)       (None, 512)               1573376   \n",
      "                                                                 \n",
      " batch_normalization_3 (Bat  (None, 512)               2048      \n",
      " chNormalization)                                                \n",
      "                                                                 \n",
      " hidden_layer2 (Dense)       (None, 256)               131328    \n",
      "                                                                 \n",
      " batch_normalization_4 (Bat  (None, 256)               1024      \n",
      " chNormalization)                                                \n",
      "                                                                 \n",
      " hidden_layer3 (Dense)       (None, 128)               32896     \n",
      "                                                                 \n",
      " batch_normalization_5 (Bat  (None, 128)               512       \n",
      " chNormalization)                                                \n",
      "                                                                 \n",
      " output (Dense)              (None, 10)                1290      \n",
      "                                                                 \n",
      "=================================================================\n",
      "Total params: 1742474 (6.65 MB)\n",
      "Trainable params: 1740682 (6.64 MB)\n",
      "Non-trainable params: 1792 (7.00 KB)\n",
      "_________________________________________________________________\n"
     ]
    },
    {
     "name": "stderr",
     "output_type": "stream",
     "text": [
      "WARNING:absl:`lr` is deprecated in Keras optimizer, please use `learning_rate` or use the legacy optimizer, e.g.,tf.keras.optimizers.legacy.SGD.\n"
     ]
    },
    {
     "name": "stdout",
     "output_type": "stream",
     "text": [
      "Epoch 1/50\n",
      "196/196 [==============================] - 3s 13ms/step - loss: 1.6861 - accuracy: 0.4077 - val_loss: 1.6600 - val_accuracy: 0.4110\n",
      "Epoch 2/50\n",
      "196/196 [==============================] - 2s 11ms/step - loss: 1.4511 - accuracy: 0.4879 - val_loss: 1.5846 - val_accuracy: 0.4320\n",
      "Epoch 3/50\n",
      "196/196 [==============================] - 2s 11ms/step - loss: 1.3566 - accuracy: 0.5177 - val_loss: 1.7217 - val_accuracy: 0.4010\n",
      "Epoch 4/50\n",
      "196/196 [==============================] - 2s 11ms/step - loss: 1.2863 - accuracy: 0.5455 - val_loss: 1.6550 - val_accuracy: 0.4184\n",
      "Epoch 5/50\n",
      "196/196 [==============================] - 2s 11ms/step - loss: 1.2250 - accuracy: 0.5670 - val_loss: 1.5756 - val_accuracy: 0.4493\n",
      "Epoch 6/50\n",
      "196/196 [==============================] - 2s 11ms/step - loss: 1.1737 - accuracy: 0.5855 - val_loss: 1.5648 - val_accuracy: 0.4605\n",
      "Epoch 7/50\n",
      "196/196 [==============================] - 2s 11ms/step - loss: 1.1300 - accuracy: 0.6004 - val_loss: 1.6643 - val_accuracy: 0.4367\n",
      "Epoch 8/50\n",
      "196/196 [==============================] - 2s 11ms/step - loss: 1.0895 - accuracy: 0.6130 - val_loss: 1.4606 - val_accuracy: 0.4977\n",
      "Epoch 9/50\n",
      "196/196 [==============================] - 2s 11ms/step - loss: 1.0512 - accuracy: 0.6272 - val_loss: 1.6227 - val_accuracy: 0.4609\n",
      "Epoch 10/50\n",
      "196/196 [==============================] - 2s 11ms/step - loss: 1.0170 - accuracy: 0.6372 - val_loss: 1.6866 - val_accuracy: 0.4431\n",
      "Epoch 11/50\n",
      "196/196 [==============================] - 2s 11ms/step - loss: 0.9800 - accuracy: 0.6548 - val_loss: 1.7738 - val_accuracy: 0.4148\n",
      "Epoch 12/50\n",
      "196/196 [==============================] - 4s 20ms/step - loss: 0.9498 - accuracy: 0.6605 - val_loss: 1.7295 - val_accuracy: 0.4414\n",
      "Epoch 13/50\n",
      "196/196 [==============================] - 4s 21ms/step - loss: 0.9277 - accuracy: 0.6704 - val_loss: 1.7076 - val_accuracy: 0.4359\n",
      "Epoch 14/50\n",
      "196/196 [==============================] - 2s 11ms/step - loss: 0.8900 - accuracy: 0.6828 - val_loss: 1.5792 - val_accuracy: 0.4764\n",
      "Epoch 15/50\n",
      "196/196 [==============================] - 2s 12ms/step - loss: 0.8650 - accuracy: 0.6933 - val_loss: 1.9154 - val_accuracy: 0.4091\n",
      "Epoch 16/50\n",
      "196/196 [==============================] - 2s 13ms/step - loss: 0.8395 - accuracy: 0.7000 - val_loss: 1.9855 - val_accuracy: 0.4214\n",
      "Epoch 17/50\n",
      "196/196 [==============================] - 2s 11ms/step - loss: 0.8017 - accuracy: 0.7147 - val_loss: 1.8760 - val_accuracy: 0.4522\n",
      "Epoch 18/50\n",
      "196/196 [==============================] - 2s 11ms/step - loss: 0.7919 - accuracy: 0.7173 - val_loss: 1.8694 - val_accuracy: 0.4463\n",
      "Epoch 19/50\n",
      "196/196 [==============================] - 2s 11ms/step - loss: 0.7533 - accuracy: 0.7339 - val_loss: 1.8694 - val_accuracy: 0.4560\n",
      "Epoch 20/50\n",
      "196/196 [==============================] - 2s 10ms/step - loss: 0.7149 - accuracy: 0.7475 - val_loss: 1.6631 - val_accuracy: 0.4897\n",
      "Epoch 21/50\n",
      "196/196 [==============================] - 3s 16ms/step - loss: 0.6851 - accuracy: 0.7550 - val_loss: 2.0371 - val_accuracy: 0.4374\n",
      "Epoch 22/50\n",
      "196/196 [==============================] - 6s 29ms/step - loss: 0.6692 - accuracy: 0.7617 - val_loss: 1.9579 - val_accuracy: 0.4579\n",
      "Epoch 23/50\n",
      "196/196 [==============================] - 6s 29ms/step - loss: 0.6390 - accuracy: 0.7714 - val_loss: 2.0716 - val_accuracy: 0.4498\n",
      "Epoch 24/50\n",
      "196/196 [==============================] - 4s 18ms/step - loss: 0.6190 - accuracy: 0.7794 - val_loss: 2.0441 - val_accuracy: 0.4555\n",
      "Epoch 25/50\n",
      "196/196 [==============================] - 2s 10ms/step - loss: 0.6062 - accuracy: 0.7820 - val_loss: 2.1861 - val_accuracy: 0.4519\n",
      "Epoch 26/50\n",
      "196/196 [==============================] - 2s 10ms/step - loss: 0.5876 - accuracy: 0.7889 - val_loss: 2.1188 - val_accuracy: 0.4611\n",
      "Epoch 27/50\n",
      "196/196 [==============================] - 2s 10ms/step - loss: 0.5516 - accuracy: 0.8014 - val_loss: 2.2479 - val_accuracy: 0.4651\n",
      "Epoch 28/50\n",
      "196/196 [==============================] - 2s 10ms/step - loss: 0.5323 - accuracy: 0.8100 - val_loss: 2.3448 - val_accuracy: 0.4439\n",
      "Epoch 29/50\n",
      "196/196 [==============================] - 2s 10ms/step - loss: 0.5119 - accuracy: 0.8168 - val_loss: 2.1560 - val_accuracy: 0.4674\n",
      "Epoch 30/50\n",
      "196/196 [==============================] - 2s 10ms/step - loss: 0.5046 - accuracy: 0.8183 - val_loss: 2.2324 - val_accuracy: 0.4652\n",
      "Epoch 31/50\n",
      "196/196 [==============================] - 3s 14ms/step - loss: 0.4780 - accuracy: 0.8287 - val_loss: 2.1790 - val_accuracy: 0.4720\n",
      "Epoch 32/50\n",
      "196/196 [==============================] - 6s 29ms/step - loss: 0.4496 - accuracy: 0.8398 - val_loss: 2.4818 - val_accuracy: 0.4373\n",
      "Epoch 33/50\n",
      "196/196 [==============================] - 6s 29ms/step - loss: 0.4397 - accuracy: 0.8427 - val_loss: 2.2953 - val_accuracy: 0.4749\n",
      "Epoch 34/50\n",
      "196/196 [==============================] - 2s 10ms/step - loss: 0.4236 - accuracy: 0.8466 - val_loss: 2.4266 - val_accuracy: 0.4644\n",
      "Epoch 35/50\n",
      "196/196 [==============================] - 2s 10ms/step - loss: 0.3937 - accuracy: 0.8587 - val_loss: 2.3287 - val_accuracy: 0.4775\n",
      "Epoch 36/50\n",
      "196/196 [==============================] - 2s 10ms/step - loss: 0.3798 - accuracy: 0.8643 - val_loss: 2.5167 - val_accuracy: 0.4504\n",
      "Epoch 37/50\n",
      "196/196 [==============================] - 2s 10ms/step - loss: 0.3682 - accuracy: 0.8686 - val_loss: 2.7556 - val_accuracy: 0.4289\n",
      "Epoch 38/50\n",
      "196/196 [==============================] - 2s 11ms/step - loss: 0.3509 - accuracy: 0.8729 - val_loss: 2.6564 - val_accuracy: 0.4586\n",
      "Epoch 39/50\n",
      "196/196 [==============================] - 2s 10ms/step - loss: 0.3494 - accuracy: 0.8750 - val_loss: 2.5325 - val_accuracy: 0.4566\n",
      "Epoch 40/50\n",
      "196/196 [==============================] - 2s 11ms/step - loss: 0.3355 - accuracy: 0.8806 - val_loss: 2.9316 - val_accuracy: 0.4591\n",
      "Epoch 41/50\n",
      "196/196 [==============================] - 2s 11ms/step - loss: 0.3198 - accuracy: 0.8861 - val_loss: 2.7096 - val_accuracy: 0.4538\n",
      "Epoch 42/50\n",
      "196/196 [==============================] - 2s 11ms/step - loss: 0.3170 - accuracy: 0.8859 - val_loss: 2.9630 - val_accuracy: 0.4397\n",
      "Epoch 43/50\n",
      "196/196 [==============================] - 2s 10ms/step - loss: 0.3115 - accuracy: 0.8866 - val_loss: 2.9913 - val_accuracy: 0.4629\n",
      "Epoch 44/50\n",
      "196/196 [==============================] - 2s 10ms/step - loss: 0.2851 - accuracy: 0.8978 - val_loss: 2.5976 - val_accuracy: 0.4753\n",
      "Epoch 45/50\n",
      "196/196 [==============================] - 2s 10ms/step - loss: 0.2748 - accuracy: 0.9019 - val_loss: 2.9070 - val_accuracy: 0.4727\n",
      "Epoch 46/50\n",
      "196/196 [==============================] - 2s 11ms/step - loss: 0.2694 - accuracy: 0.9037 - val_loss: 2.7829 - val_accuracy: 0.4811\n",
      "Epoch 47/50\n",
      "196/196 [==============================] - 2s 10ms/step - loss: 0.2438 - accuracy: 0.9129 - val_loss: 3.0990 - val_accuracy: 0.4672\n",
      "Epoch 48/50\n",
      "196/196 [==============================] - 2s 10ms/step - loss: 0.2410 - accuracy: 0.9133 - val_loss: 2.9508 - val_accuracy: 0.4660\n",
      "Epoch 49/50\n",
      "196/196 [==============================] - 2s 10ms/step - loss: 0.2309 - accuracy: 0.9186 - val_loss: 2.9402 - val_accuracy: 0.4751\n",
      "Epoch 50/50\n",
      "196/196 [==============================] - 2s 10ms/step - loss: 0.2236 - accuracy: 0.9193 - val_loss: 2.9244 - val_accuracy: 0.4854\n",
      "313/313 [==============================] - 1s 4ms/step\n",
      "313/313 [==============================] - 1s 4ms/step\n"
     ]
    }
   ],
   "source": [
    "# 載入 Callbacks\n",
    "from keras.callbacks import ModelCheckpoint\n",
    "\n",
    "model_ckpt = ModelCheckpoint(filepath=\"./tmp.keras\", \n",
    "                             monitor=\"val_loss\", \n",
    "                             save_best_only=True)\n",
    "\n",
    "model = build_mlp(input_shape=x_train.shape[1:])\n",
    "model.summary()\n",
    "optimizer = keras.optimizers.SGD(lr=LEARNING_RATE, nesterov=True, momentum=MOMENTUM)\n",
    "model.compile(loss=\"categorical_crossentropy\", metrics=[\"accuracy\"], optimizer=optimizer)\n",
    "\n",
    "model.fit(x_train, y_train, \n",
    "          epochs=EPOCHS, \n",
    "          batch_size=BATCH_SIZE, \n",
    "          validation_data=(x_test, y_test), \n",
    "          shuffle=True,\n",
    "          callbacks=[model_ckpt]\n",
    "         )\n",
    "\n",
    "model.save(\"final_model.keras\")\n",
    "model.save_weights(\"model_weights.keras\")\n",
    "# Collect results\n",
    "train_loss = model.history.history[\"loss\"]\n",
    "valid_loss = model.history.history[\"val_loss\"]\n",
    "train_acc = model.history.history[\"accuracy\"]\n",
    "valid_acc = model.history.history[\"val_accuracy\"]\n",
    "\n",
    "pred_final = model.predict(x_test)\n",
    "# Load back\n",
    "model = keras.models.load_model(\"./tmp.keras\")\n",
    "pred_loadback = model.predict(x_test)"
   ]
  },
  {
   "cell_type": "code",
   "execution_count": 24,
   "metadata": {
    "scrolled": true
   },
   "outputs": [
    {
     "name": "stdout",
     "output_type": "stream",
     "text": [
      "Accuracy of final weights: 0.485\n",
      "Accuracy of best weights: 0.498\n"
     ]
    }
   ],
   "source": [
    "from sklearn.metrics import accuracy_score\n",
    "\n",
    "final_model_acc = accuracy_score(y_true=y_test.argmax(axis=-1), y_pred=pred_final.argmax(axis=-1))\n",
    "loadback_acc = accuracy_score(y_true=y_test.argmax(axis=-1), y_pred=pred_loadback.argmax(axis=-1))\n",
    "\n",
    "print(\"Accuracy of final weights: %.3f\" % final_model_acc)\n",
    "print(\"Accuracy of best weights: %.3f\" % loadback_acc)"
   ]
  },
  {
   "cell_type": "markdown",
   "metadata": {},
   "source": [
    "# 筆記\n",
    "* save_best_only 若為 False 就是儲存最後的結果而不是最好的，所以使用 Model check point 就把 save_best_only 打開"
   ]
  }
 ],
 "metadata": {
  "kernelspec": {
   "display_name": "Python 3",
   "language": "python",
   "name": "python3"
  },
  "language_info": {
   "codemirror_mode": {
    "name": "ipython",
    "version": 3
   },
   "file_extension": ".py",
   "mimetype": "text/x-python",
   "name": "python",
   "nbconvert_exporter": "python",
   "pygments_lexer": "ipython3",
   "version": "3.11.2"
  }
 },
 "nbformat": 4,
 "nbformat_minor": 2
}
